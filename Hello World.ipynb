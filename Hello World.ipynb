{
 "cells": [
  {
   "cell_type": "markdown",
   "metadata": {},
   "source": [
    "# print(\"Hello World, you suck..\")\n",
    "## Wie Programmieren hilft, ein besserer Ingenieur zu sein"
   ]
  },
  {
   "cell_type": "markdown",
   "metadata": {},
   "source": [
    "### Wer bin ich?\n",
    "\n",
    "* Anselm Kiefner\n",
    "* 32 Jahre alt\n",
    "* vor 12 Jahren mit Informatik Studium angefangen an der Fernuni in Hagen\n",
    "* Entwicklung an Open-Source MMORPGs und anderen Projekten\n",
    "* Entwicklung von Tools für die Piratenpartei\n",
    "* Versucht mich mit programmieren selbstständig zu machen und bin schließlich in Sigmaringen gelandet.."
   ]
  },
  {
   "cell_type": "markdown",
   "metadata": {},
   "source": [
    "### Warum mach ich das hier?\n",
    "* bla!"
   ]
  },
  {
   "cell_type": "markdown",
   "metadata": {},
   "source": [
    "Wie funktioniert das hier?\n",
    "\n",
    "https://try.jupyter.org/\n",
    "https://github.com/amogorkon/Programmieren_tut"
   ]
  },
  {
   "cell_type": "markdown",
   "metadata": {},
   "source": [
    "## Ich bin Ingenieur, was hat Programmieren - speziell Python - mit mir zu tun?\n",
    "\n",
    "* Python ist die de facto Lingua franca der Wissenschaft\n",
    "* Ein Astronom erzählt wie Python in der Astronomie verwendet wird auf PyCon 2017 https://www.youtube.com/watch?v=ZyjCqQEUa8o\n",
    "* Python ist einfach, schnell zu lernen, universell -> guter Einstieg für andere, spezielle Bereiche"
   ]
  },
  {
   "cell_type": "markdown",
   "metadata": {},
   "source": [
    "### Was für Daten??\n",
    "\n",
    "* Natürliche Sprache (Twitter, Facebook, IRC, EMails, Artikel, ...)\n",
    "* Geodaten (Wetter, Einkommen, Konsum, Krankheiten, Strahlung, Verkehr, Verschmutzung, ...)\n",
    "* Big Data (Strukturierte Daten in großer Menge - z.B. https://talkpython.fm/episodes/show/29/python-at-the-large-hadron-collider-and-cern )\n",
    "* Wissenschaft (astropy, http://journal.frontiersin.org/researchtopic/8/python-in-neuroscience, http://www.psychopy.org/)\n",
    "* Machine Learning (http://scikit-learn.org/stable/ )\n",
    "* Web-Anwendungen (Dropbox, https://github.com/zalando, Google, ...)\n",
    "* Physical Computing (https://playground.arduino.cc/Interfacing/Python, 3D Printing https://www.youtube.com/watch?v=qgvnPB_77z8)\n",
    "* Internet of Things ( https://www.element14.com/community/groups/internet-of-things/blog/2017/02/17/iot-with-python-essential-packages )\n",
    "* AI im RL - Dronen und autonome Fahrzeuge ( http://python.dronekit.io/ )\n",
    "* ..."
   ]
  },
  {
   "cell_type": "markdown",
   "metadata": {},
   "source": [
    "### Ich bin Ingenieur, was hat ... mit mir zu tun?!?"
   ]
  },
  {
   "cell_type": "markdown",
   "metadata": {},
   "source": [
    "\"Hardware is a - mostly - solved problem, software and data is where the big money is.\" - Chris Anderson on the Future of Drones and the Open Source Hardware Movement (O'Reilly Media, Inc. Audio Book)"
   ]
  },
  {
   "cell_type": "markdown",
   "metadata": {},
   "source": [
    "* Was ist alles möglich - Chancen und Risiken?\n",
    "* Wer mitreden will muss sich zumindest grob auskennen\n",
    "* Software ist überall - Trend in 10 Jahren: über 100 IP-fähige Geräte pro Person im Haushalt! "
   ]
  },
  {
   "cell_type": "markdown",
   "metadata": {},
   "source": [
    "## 'nuff said, let's "
   ]
  }
 ],
 "metadata": {
  "kernelspec": {
   "display_name": "Python 3",
   "language": "python",
   "name": "python3"
  },
  "language_info": {
   "codemirror_mode": {
    "name": "ipython",
    "version": 3
   },
   "file_extension": ".py",
   "mimetype": "text/x-python",
   "name": "python",
   "nbconvert_exporter": "python",
   "pygments_lexer": "ipython3",
   "version": "3.6.0"
  }
 },
 "nbformat": 4,
 "nbformat_minor": 2
}

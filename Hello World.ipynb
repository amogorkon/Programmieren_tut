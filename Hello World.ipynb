{
 "cells": [
  {
   "cell_type": "markdown",
   "metadata": {},
   "source": [
    "# print(\"Hello World, you suck..\")\n",
    "## Wie Programmieren hilft, ein besserer Ingenieur zu sein"
   ]
  },
  {
   "cell_type": "markdown",
   "metadata": {},
   "source": [
    "### Wer bin ich?\n",
    "\n",
    "* Anselm Kiefner\n",
    "* 32 Jahre alt\n",
    "* vor 12 Jahren mit Informatik Studium angefangen an der Fernuni in Hagen\n",
    "* Entwicklung an Open-Source MMORPGs und anderen Projekten\n",
    "* Entwicklung von Tools für die Piratenpartei\n",
    "* Versuchte mich mit programmieren selbstständig zu machen und bin schließlich in Sigmaringen gelandet.."
   ]
  },
  {
   "cell_type": "markdown",
   "metadata": {},
   "source": [
    "### Warum mach ich das hier?\n",
    "* Ich liebe das Programmieren und hoffe mit diesem Tut ein wenig zu inspirieren\n",
    "* "
   ]
  },
  {
   "cell_type": "markdown",
   "metadata": {},
   "source": [
    "Wie funktioniert das hier?\n",
    "\n",
    "https://try.jupyter.org/\n",
    "https://github.com/amogorkon/Programmieren_tut"
   ]
  },
  {
   "cell_type": "markdown",
   "metadata": {},
   "source": [
    "## Ich bin Ingenieur, was hat Programmieren - speziell Python - mit mir zu tun?\n",
    "\n",
    "* Python ist die de facto Lingua franca der Wissenschaft\n",
    "* Ein Astronom erzählt wie Python in der Astronomie verwendet wird auf PyCon 2017 https://www.youtube.com/watch?v=ZyjCqQEUa8o\n",
    "* Python ist einfach, schnell zu lernen, universell -> guter Einstieg für andere, spezielle Bereiche"
   ]
  },
  {
   "cell_type": "markdown",
   "metadata": {},
   "source": [
    "### Was für Daten??\n",
    "\n",
    "* Natürliche Sprache (Twitter, Facebook, IRC, EMails, Artikel, ...)\n",
    "* Geodaten (Wetter, Einkommen, Konsum, Krankheiten, Strahlung, Verkehr, Verschmutzung, ...)\n",
    "* Big Data (Strukturierte Daten in großer Menge - z.B. https://talkpython.fm/episodes/show/29/python-at-the-large-hadron-collider-and-cern )\n",
    "* Wissenschaft (astropy, http://journal.frontiersin.org/researchtopic/8/python-in-neuroscience, http://www.psychopy.org/)\n",
    "* Machine Learning (http://scikit-learn.org/stable/ )\n",
    "* Web-Anwendungen (Dropbox, https://github.com/zalando, Google, ...)\n",
    "* Physical Computing (https://playground.arduino.cc/Interfacing/Python, 3D Printing https://www.youtube.com/watch?v=qgvnPB_77z8)\n",
    "* Internet of Things ( https://www.element14.com/community/groups/internet-of-things/blog/2017/02/17/iot-with-python-essential-packages )\n",
    "* AI im RL - Dronen und autonome Fahrzeuge ( http://python.dronekit.io/ )"
   ]
  },
  {
   "cell_type": "markdown",
   "metadata": {},
   "source": [
    "### Ich bin Ingenieur, was hat ... mit mir zu tun?!?"
   ]
  },
  {
   "cell_type": "markdown",
   "metadata": {},
   "source": [
    "\"Hardware is a - mostly - solved problem, software and data is where the big money is.\" - Chris Anderson on the Future of Drones and the Open Source Hardware Movement (O'Reilly Media, Inc. Audio Book)"
   ]
  },
  {
   "cell_type": "markdown",
   "metadata": {},
   "source": [
    "* Was ist alles möglich - Chancen und Risiken?\n",
    "* Wer mitreden will muss sich zumindest grob auskennen\n",
    "* Software ist überall - Trend in 10 Jahren: über 100 IP-fähige Geräte pro Person im Haushalt! "
   ]
  },
  {
   "cell_type": "markdown",
   "metadata": {},
   "source": [
    "## 'nuff said, let's go!"
   ]
  },
  {
   "cell_type": "code",
   "execution_count": null,
   "metadata": {
    "collapsed": true
   },
   "outputs": [],
   "source": [
    "# https://www.quora.com/What-are-the-best-Python-scripts-youve-ever-written/answer/Anselm-Kiefner\n",
    "\n",
    "from random import choice\n",
    "choices = [\"indian\", \"italian\", \"something new\"]\n",
    "print(\"today we will eat\", choice(choices))"
   ]
  },
  {
   "cell_type": "markdown",
   "metadata": {},
   "source": [
    "TV-Quiz: Wieviele 1en sind insgesamt in allen Zahlen von 1 bis 1000?"
   ]
  },
  {
   "cell_type": "code",
   "execution_count": null,
   "metadata": {
    "collapsed": false
   },
   "outputs": [],
   "source": [
    "print(list(range(0,1001)))"
   ]
  },
  {
   "cell_type": "code",
   "execution_count": null,
   "metadata": {
    "collapsed": false
   },
   "outputs": [],
   "source": [
    "\"Sigmaringen\".count(\"i\")"
   ]
  },
  {
   "cell_type": "code",
   "execution_count": null,
   "metadata": {
    "collapsed": false
   },
   "outputs": [],
   "source": [
    "str(10).count(\"1\")"
   ]
  },
  {
   "cell_type": "code",
   "execution_count": null,
   "metadata": {
    "collapsed": false
   },
   "outputs": [],
   "source": [
    "print([str(x).count(\"1\") for x in range(0, 1001)])"
   ]
  },
  {
   "cell_type": "code",
   "execution_count": null,
   "metadata": {
    "collapsed": false
   },
   "outputs": [],
   "source": [
    "sum(str(x).count(\"1\") for x in range(0, 1001))"
   ]
  },
  {
   "cell_type": "markdown",
   "metadata": {},
   "source": [
    "Das ist ja vielleicht ganz nett, aber wie kann mir das helfen wenn ich gezwungen werde für böse Leute eine Fabrik zur Produktion von Biowaffen zu bauen?!?"
   ]
  },
  {
   "cell_type": "code",
   "execution_count": null,
   "metadata": {
    "collapsed": false
   },
   "outputs": [],
   "source": [
    "# https://books.google.de/books?id=GyPG-un1ivkC&hl\n",
    "\n",
    "msg = \"hilfe, hol mich hier raus!\"\n",
    "msg_als_liste_von_zahlen = [ord(c) for c in msg]\n",
    "print(msg_als_liste_von_zahlen)\n",
    "print(list(chr(x) for x in msg_als_liste_von_zahlen))"
   ]
  },
  {
   "cell_type": "code",
   "execution_count": null,
   "metadata": {
    "collapsed": false
   },
   "outputs": [],
   "source": [
    "%matplotlib inline\n",
    "\n",
    "import matplotlib\n",
    "import numpy as np\n",
    "import matplotlib.pyplot as plt\n",
    "\n",
    "plt.plot(msg_als_liste_von_zahlen)"
   ]
  },
  {
   "cell_type": "markdown",
   "metadata": {},
   "source": [
    "Okay, aber ich will die Nachricht lieber so verschlüsseln, dass sie **niemand** lesen kann!"
   ]
  },
  {
   "cell_type": "code",
   "execution_count": null,
   "metadata": {
    "collapsed": false
   },
   "outputs": [],
   "source": [
    "# https://de.wikipedia.org/wiki/One-Time-Pad\n",
    "\n",
    "buchstaben = \"f\"\n",
    "print(buchstaben)\n",
    "buchstaben_als_zahl = ord(buchstaben)\n",
    "print(buchstaben_als_zahl)\n",
    "buchstaben_als_binärzahl = bin(buchstaben_als_zahl)\n",
    "print(buchstaben_als_binärzahl)\n",
    "buchstaben_als_binärzahl_kurz = buchstaben_als_binärzahl[2:]\n",
    "print(buchstaben_als_binärzahl_kurz)"
   ]
  },
  {
   "cell_type": "markdown",
   "metadata": {},
   "source": [
    "was macht XOR nochmal?"
   ]
  },
  {
   "cell_type": "code",
   "execution_count": null,
   "metadata": {
    "collapsed": false
   },
   "outputs": [],
   "source": [
    "True^True, True ^ False, False^True, False^False"
   ]
  },
  {
   "cell_type": "code",
   "execution_count": null,
   "metadata": {
    "collapsed": false
   },
   "outputs": [],
   "source": [
    "bin(3), bin(5), bin(3^5), 3^5"
   ]
  },
  {
   "cell_type": "code",
   "execution_count": null,
   "metadata": {
    "collapsed": false
   },
   "outputs": [],
   "source": [
    "plaintext = \"help!\"\n",
    "plaintext_int = [ord(c) for c in msg]\n",
    "print(\"plaintext\", plaintext_int)\n",
    "schlüssel = \"_0_2x\"\n",
    "schlüssel_int = [ord(c) for c in schlüssel]\n",
    "print(\"schlüssel\", schlüssel_int)\n",
    "\n",
    "verschlüsselte_msg_int = [x^y for x, y in zip(plaintext_int, schlüssel_int)]\n",
    "print(\"verschlüsselt\", verschlüsselte_msg_int)\n",
    "print(\"verschlüsselt als buchstaben\", list(chr(x) for x in verschlüsselte_msg_int))\n",
    "print(''.join(chr(x) for x in verschlüsselte_msg))"
   ]
  },
  {
   "cell_type": "code",
   "execution_count": null,
   "metadata": {
    "collapsed": false
   },
   "outputs": [],
   "source": [
    "entschlüsselte_msg_int = [a^b for a, b in zip(verschlüsselte_msg_int, schlüssel_int)]\n",
    "entschlüsselte_msg = ''.join(chr(x) for x in entschlüsselte_msg_int)\n",
    "print(entschlüsselte_msg)"
   ]
  },
  {
   "cell_type": "markdown",
   "metadata": {},
   "source": [
    "Ich bin ganz friedlich und werd auch nicht (hoffentlich!) in nächster Zeit entführt, was bringt mir Python denn ganz praktisch??"
   ]
  },
  {
   "cell_type": "markdown",
   "metadata": {},
   "source": [
    "https://github.com/jupyter/jupyter/wiki/A-gallery-of-interesting-Jupyter-Notebooks#earth-science-and-geo-spatial-data\n",
    "\n",
    "Wissenschaftlicher Artikel als Notebook:\n",
    "-> http://nbviewer.jupyter.org/github/cossatot/lanf_earthquake_likelihood/blob/master/notebooks/lanf_manuscript_notebook.ipynb "
   ]
  }
 ],
 "metadata": {
  "kernelspec": {
   "display_name": "Python 3",
   "language": "python",
   "name": "python3"
  },
  "language_info": {
   "codemirror_mode": {
    "name": "ipython",
    "version": 3
   },
   "file_extension": ".py",
   "mimetype": "text/x-python",
   "name": "python",
   "nbconvert_exporter": "python",
   "pygments_lexer": "ipython3",
   "version": "3.6.0"
  }
 },
 "nbformat": 4,
 "nbformat_minor": 2
}

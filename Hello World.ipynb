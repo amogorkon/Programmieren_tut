{
 "cells": [
  {
   "cell_type": "markdown",
   "metadata": {},
   "source": [
    "# print(\"Hello World, fuck you\")\n",
    "## Wie Programmieren hilft, ein besserer Ingenieur zu sein"
   ]
  },
  {
   "cell_type": "markdown",
   "metadata": {},
   "source": [
    "### Wer bin ich?\n",
    "\n",
    "* Anselm Kiefner\n",
    "* 32 Jahre alt\n",
    "* vor 12 Jahren mit Informatik Studium angefangen an der Fernuni in Hagen\n",
    "* Entwicklung an Open-Source MMORPGs und anderen Projekten\n",
    "* Entwicklung von Tools für die Piratenpartei\n",
    "* Versucht mich mit programmieren selbstständig zu machen und bin in Sigmaringen gelandet.."
   ]
  },
  {
   "cell_type": "markdown",
   "metadata": {},
   "source": [
    "### Warum mach ich das hier?\n",
    "* bla!"
   ]
  }
 ],
 "metadata": {
  "kernelspec": {
   "display_name": "Python 3",
   "language": "python",
   "name": "python3"
  },
  "language_info": {
   "codemirror_mode": {
    "name": "ipython",
    "version": 3
   },
   "file_extension": ".py",
   "mimetype": "text/x-python",
   "name": "python",
   "nbconvert_exporter": "python",
   "pygments_lexer": "ipython3",
   "version": "3.6.0"
  }
 },
 "nbformat": 4,
 "nbformat_minor": 2
}

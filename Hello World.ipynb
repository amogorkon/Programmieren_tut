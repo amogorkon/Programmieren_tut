{
 "cells": [
  {
   "cell_type": "markdown",
   "metadata": {},
   "source": [
    "# print(\"Hello World, you suck..\")\n",
    "## Wie Programmieren hilft, ein besserer Ingenieur zu sein"
   ]
  },
  {
   "cell_type": "markdown",
   "metadata": {},
   "source": [
    "### Wer bin ich?\n",
    "\n",
    "* Anselm Kiefner\n",
    "* 32 Jahre alt\n",
    "* vor 12 Jahren mit Informatik Studium angefangen an der Fernuni in Hagen\n",
    "* Entwicklung an Open-Source MMORPGs und anderen Projekten\n",
    "* Entwicklung von Tools für die Piratenpartei\n",
    "* Versuchte mich mit programmieren selbstständig zu machen und bin schließlich in Sigmaringen gelandet.."
   ]
  },
  {
   "cell_type": "markdown",
   "metadata": {},
   "source": [
    "### Warum mach ich das hier?\n",
    "* Ich liebe das Programmieren und hoffe mit diesem \"Tutorium\" ein bisschen zu inspirieren\n",
    "* Ich habe bemerkt, dass einige \"best practices\" aus der Programmier-Welt offensichtlich noch nicht in der akademischen Welt angekommen sind und finde das leicht irritierend (Versionierung? Collaborative Editing?? Der Open Source Gedanke?!? Excel als wissenschaftliches Format!?!)\n",
    "* Ich hab mich jahrelang mit Python beschäftigt, da kann ich auch ein bisschen davon weitergeben"
   ]
  },
  {
   "cell_type": "markdown",
   "metadata": {},
   "source": [
    "Wie funktioniert das hier?\n",
    "\n",
    "* https://try.jupyter.org/\n",
    "* https://github.com/amogorkon/Programmieren_tut"
   ]
  },
  {
   "cell_type": "markdown",
   "metadata": {},
   "source": [
    "## Ich bin Ingenieur, was hat Programmieren - speziell Python - mit mir zu tun?\n",
    "\n",
    "* Python ist die de facto Lingua franca der Wissenschaft\n",
    "* Ein Astronom erzählt wie Python in der Astronomie verwendet wird auf PyCon 2017 https://www.youtube.com/watch?v=ZyjCqQEUa8o\n",
    "* Python ist einfach, schnell zu lernen, universell -> guter Einstieg für andere, speziellere Bereiche"
   ]
  },
  {
   "cell_type": "markdown",
   "metadata": {},
   "source": [
    "### Was für Daten??\n",
    "\n",
    "* Natürliche Sprache (Twitter, Facebook, IRC, EMails, Artikel, ...)\n",
    "* Geodaten (Wetter, Einkommen, Konsum, Krankheiten, Strahlung, Verkehr, Verschmutzung, ...)\n",
    "* Big Data (Strukturierte Daten in großer Menge - z.B. https://talkpython.fm/episodes/show/29/python-at-the-large-hadron-collider-and-cern )\n",
    "* Wissenschaft (astropy, http://journal.frontiersin.org/researchtopic/8/python-in-neuroscience, http://www.psychopy.org/, ...)\n",
    "* Machine Learning (http://scikit-learn.org/stable/ )\n",
    "* Web-Anwendungen (Dropbox, https://github.com/zalando, Google, ...)\n",
    "* Physical Computing (https://playground.arduino.cc/Interfacing/Python, 3D Printing https://www.youtube.com/watch?v=qgvnPB_77z8, Raspberry Pi (=Python Interpreter!)\n",
    "* Internet of Things ( https://www.element14.com/community/groups/internet-of-things/blog/2017/02/17/iot-with-python-essential-packages )\n",
    "* AI im RL - Dronen und autonome Fahrzeuge ( http://python.dronekit.io/ )"
   ]
  },
  {
   "cell_type": "markdown",
   "metadata": {},
   "source": [
    "### Ich bin Ingenieur, was hat ... mit mir zu tun?!?"
   ]
  },
  {
   "cell_type": "markdown",
   "metadata": {},
   "source": [
    "\"Hardware is a - mostly - solved problem, software and data is where the big money is.\" - Chris Anderson on the Future of Drones and the Open Source Hardware Movement (O'Reilly Media, Inc. Audio Book)"
   ]
  },
  {
   "cell_type": "markdown",
   "metadata": {},
   "source": [
    "* Was ist alles möglich - Chancen und Risiken?\n",
    "* Wer mitreden will muss sich zumindest grob auskennen\n",
    "* Software ist überall - Trend in 10 Jahren: über 100 IP-fähige Geräte pro Person im Haushalt! "
   ]
  },
  {
   "cell_type": "markdown",
   "metadata": {},
   "source": [
    "## 'nuff said, let's go!"
   ]
  },
  {
   "cell_type": "code",
   "execution_count": 1,
   "metadata": {
    "collapsed": false
   },
   "outputs": [
    {
     "name": "stdout",
     "output_type": "stream",
     "text": [
      "today we will eat italian\n"
     ]
    }
   ],
   "source": [
    "# https://www.quora.com/What-are-the-best-Python-scripts-youve-ever-written/answer/Anselm-Kiefner\n",
    "\n",
    "from random import choice\n",
    "choices = [\"indian\", \"italian\", \"something new\"]\n",
    "print(\"today we will eat\", choice(choices))"
   ]
  },
  {
   "cell_type": "markdown",
   "metadata": {},
   "source": [
    "TV-Quiz: Wieviele 1en sind insgesamt in allen Zahlen von 1 bis 1000?"
   ]
  },
  {
   "cell_type": "code",
   "execution_count": 2,
   "metadata": {
    "collapsed": false
   },
   "outputs": [
    {
     "name": "stdout",
     "output_type": "stream",
     "text": [
      "[0, 1, 2, 3, 4, 5, 6, 7, 8, 9, 10, 11, 12, 13, 14, 15, 16, 17, 18, 19, 20, 21, 22, 23, 24, 25, 26, 27, 28, 29, 30, 31, 32, 33, 34, 35, 36, 37, 38, 39, 40, 41, 42, 43, 44, 45, 46, 47, 48, 49, 50, 51, 52, 53, 54, 55, 56, 57, 58, 59, 60, 61, 62, 63, 64, 65, 66, 67, 68, 69, 70, 71, 72, 73, 74, 75, 76, 77, 78, 79, 80, 81, 82, 83, 84, 85, 86, 87, 88, 89, 90, 91, 92, 93, 94, 95, 96, 97, 98, 99, 100, 101, 102, 103, 104, 105, 106, 107, 108, 109, 110, 111, 112, 113, 114, 115, 116, 117, 118, 119, 120, 121, 122, 123, 124, 125, 126, 127, 128, 129, 130, 131, 132, 133, 134, 135, 136, 137, 138, 139, 140, 141, 142, 143, 144, 145, 146, 147, 148, 149, 150, 151, 152, 153, 154, 155, 156, 157, 158, 159, 160, 161, 162, 163, 164, 165, 166, 167, 168, 169, 170, 171, 172, 173, 174, 175, 176, 177, 178, 179, 180, 181, 182, 183, 184, 185, 186, 187, 188, 189, 190, 191, 192, 193, 194, 195, 196, 197, 198, 199, 200, 201, 202, 203, 204, 205, 206, 207, 208, 209, 210, 211, 212, 213, 214, 215, 216, 217, 218, 219, 220, 221, 222, 223, 224, 225, 226, 227, 228, 229, 230, 231, 232, 233, 234, 235, 236, 237, 238, 239, 240, 241, 242, 243, 244, 245, 246, 247, 248, 249, 250, 251, 252, 253, 254, 255, 256, 257, 258, 259, 260, 261, 262, 263, 264, 265, 266, 267, 268, 269, 270, 271, 272, 273, 274, 275, 276, 277, 278, 279, 280, 281, 282, 283, 284, 285, 286, 287, 288, 289, 290, 291, 292, 293, 294, 295, 296, 297, 298, 299, 300, 301, 302, 303, 304, 305, 306, 307, 308, 309, 310, 311, 312, 313, 314, 315, 316, 317, 318, 319, 320, 321, 322, 323, 324, 325, 326, 327, 328, 329, 330, 331, 332, 333, 334, 335, 336, 337, 338, 339, 340, 341, 342, 343, 344, 345, 346, 347, 348, 349, 350, 351, 352, 353, 354, 355, 356, 357, 358, 359, 360, 361, 362, 363, 364, 365, 366, 367, 368, 369, 370, 371, 372, 373, 374, 375, 376, 377, 378, 379, 380, 381, 382, 383, 384, 385, 386, 387, 388, 389, 390, 391, 392, 393, 394, 395, 396, 397, 398, 399, 400, 401, 402, 403, 404, 405, 406, 407, 408, 409, 410, 411, 412, 413, 414, 415, 416, 417, 418, 419, 420, 421, 422, 423, 424, 425, 426, 427, 428, 429, 430, 431, 432, 433, 434, 435, 436, 437, 438, 439, 440, 441, 442, 443, 444, 445, 446, 447, 448, 449, 450, 451, 452, 453, 454, 455, 456, 457, 458, 459, 460, 461, 462, 463, 464, 465, 466, 467, 468, 469, 470, 471, 472, 473, 474, 475, 476, 477, 478, 479, 480, 481, 482, 483, 484, 485, 486, 487, 488, 489, 490, 491, 492, 493, 494, 495, 496, 497, 498, 499, 500, 501, 502, 503, 504, 505, 506, 507, 508, 509, 510, 511, 512, 513, 514, 515, 516, 517, 518, 519, 520, 521, 522, 523, 524, 525, 526, 527, 528, 529, 530, 531, 532, 533, 534, 535, 536, 537, 538, 539, 540, 541, 542, 543, 544, 545, 546, 547, 548, 549, 550, 551, 552, 553, 554, 555, 556, 557, 558, 559, 560, 561, 562, 563, 564, 565, 566, 567, 568, 569, 570, 571, 572, 573, 574, 575, 576, 577, 578, 579, 580, 581, 582, 583, 584, 585, 586, 587, 588, 589, 590, 591, 592, 593, 594, 595, 596, 597, 598, 599, 600, 601, 602, 603, 604, 605, 606, 607, 608, 609, 610, 611, 612, 613, 614, 615, 616, 617, 618, 619, 620, 621, 622, 623, 624, 625, 626, 627, 628, 629, 630, 631, 632, 633, 634, 635, 636, 637, 638, 639, 640, 641, 642, 643, 644, 645, 646, 647, 648, 649, 650, 651, 652, 653, 654, 655, 656, 657, 658, 659, 660, 661, 662, 663, 664, 665, 666, 667, 668, 669, 670, 671, 672, 673, 674, 675, 676, 677, 678, 679, 680, 681, 682, 683, 684, 685, 686, 687, 688, 689, 690, 691, 692, 693, 694, 695, 696, 697, 698, 699, 700, 701, 702, 703, 704, 705, 706, 707, 708, 709, 710, 711, 712, 713, 714, 715, 716, 717, 718, 719, 720, 721, 722, 723, 724, 725, 726, 727, 728, 729, 730, 731, 732, 733, 734, 735, 736, 737, 738, 739, 740, 741, 742, 743, 744, 745, 746, 747, 748, 749, 750, 751, 752, 753, 754, 755, 756, 757, 758, 759, 760, 761, 762, 763, 764, 765, 766, 767, 768, 769, 770, 771, 772, 773, 774, 775, 776, 777, 778, 779, 780, 781, 782, 783, 784, 785, 786, 787, 788, 789, 790, 791, 792, 793, 794, 795, 796, 797, 798, 799, 800, 801, 802, 803, 804, 805, 806, 807, 808, 809, 810, 811, 812, 813, 814, 815, 816, 817, 818, 819, 820, 821, 822, 823, 824, 825, 826, 827, 828, 829, 830, 831, 832, 833, 834, 835, 836, 837, 838, 839, 840, 841, 842, 843, 844, 845, 846, 847, 848, 849, 850, 851, 852, 853, 854, 855, 856, 857, 858, 859, 860, 861, 862, 863, 864, 865, 866, 867, 868, 869, 870, 871, 872, 873, 874, 875, 876, 877, 878, 879, 880, 881, 882, 883, 884, 885, 886, 887, 888, 889, 890, 891, 892, 893, 894, 895, 896, 897, 898, 899, 900, 901, 902, 903, 904, 905, 906, 907, 908, 909, 910, 911, 912, 913, 914, 915, 916, 917, 918, 919, 920, 921, 922, 923, 924, 925, 926, 927, 928, 929, 930, 931, 932, 933, 934, 935, 936, 937, 938, 939, 940, 941, 942, 943, 944, 945, 946, 947, 948, 949, 950, 951, 952, 953, 954, 955, 956, 957, 958, 959, 960, 961, 962, 963, 964, 965, 966, 967, 968, 969, 970, 971, 972, 973, 974, 975, 976, 977, 978, 979, 980, 981, 982, 983, 984, 985, 986, 987, 988, 989, 990, 991, 992, 993, 994, 995, 996, 997, 998, 999, 1000]\n"
     ]
    }
   ],
   "source": [
    "print(list(range(0,1001)))"
   ]
  },
  {
   "cell_type": "code",
   "execution_count": 3,
   "metadata": {
    "collapsed": false
   },
   "outputs": [
    {
     "data": {
      "text/plain": [
       "2"
      ]
     },
     "execution_count": 3,
     "metadata": {},
     "output_type": "execute_result"
    }
   ],
   "source": [
    "\"Sigmaringen\".count(\"i\")"
   ]
  },
  {
   "cell_type": "code",
   "execution_count": 4,
   "metadata": {
    "collapsed": false
   },
   "outputs": [
    {
     "data": {
      "text/plain": [
       "1"
      ]
     },
     "execution_count": 4,
     "metadata": {},
     "output_type": "execute_result"
    }
   ],
   "source": [
    "str(10).count(\"1\")"
   ]
  },
  {
   "cell_type": "code",
   "execution_count": 5,
   "metadata": {
    "collapsed": false
   },
   "outputs": [
    {
     "name": "stdout",
     "output_type": "stream",
     "text": [
      "[0, 1, 0, 0, 0, 0, 0, 0, 0, 0, 1, 2, 1, 1, 1, 1, 1, 1, 1, 1, 0, 1, 0, 0, 0, 0, 0, 0, 0, 0, 0, 1, 0, 0, 0, 0, 0, 0, 0, 0, 0, 1, 0, 0, 0, 0, 0, 0, 0, 0, 0, 1, 0, 0, 0, 0, 0, 0, 0, 0, 0, 1, 0, 0, 0, 0, 0, 0, 0, 0, 0, 1, 0, 0, 0, 0, 0, 0, 0, 0, 0, 1, 0, 0, 0, 0, 0, 0, 0, 0, 0, 1, 0, 0, 0, 0, 0, 0, 0, 0, 1, 2, 1, 1, 1, 1, 1, 1, 1, 1, 2, 3, 2, 2, 2, 2, 2, 2, 2, 2, 1, 2, 1, 1, 1, 1, 1, 1, 1, 1, 1, 2, 1, 1, 1, 1, 1, 1, 1, 1, 1, 2, 1, 1, 1, 1, 1, 1, 1, 1, 1, 2, 1, 1, 1, 1, 1, 1, 1, 1, 1, 2, 1, 1, 1, 1, 1, 1, 1, 1, 1, 2, 1, 1, 1, 1, 1, 1, 1, 1, 1, 2, 1, 1, 1, 1, 1, 1, 1, 1, 1, 2, 1, 1, 1, 1, 1, 1, 1, 1, 0, 1, 0, 0, 0, 0, 0, 0, 0, 0, 1, 2, 1, 1, 1, 1, 1, 1, 1, 1, 0, 1, 0, 0, 0, 0, 0, 0, 0, 0, 0, 1, 0, 0, 0, 0, 0, 0, 0, 0, 0, 1, 0, 0, 0, 0, 0, 0, 0, 0, 0, 1, 0, 0, 0, 0, 0, 0, 0, 0, 0, 1, 0, 0, 0, 0, 0, 0, 0, 0, 0, 1, 0, 0, 0, 0, 0, 0, 0, 0, 0, 1, 0, 0, 0, 0, 0, 0, 0, 0, 0, 1, 0, 0, 0, 0, 0, 0, 0, 0, 0, 1, 0, 0, 0, 0, 0, 0, 0, 0, 1, 2, 1, 1, 1, 1, 1, 1, 1, 1, 0, 1, 0, 0, 0, 0, 0, 0, 0, 0, 0, 1, 0, 0, 0, 0, 0, 0, 0, 0, 0, 1, 0, 0, 0, 0, 0, 0, 0, 0, 0, 1, 0, 0, 0, 0, 0, 0, 0, 0, 0, 1, 0, 0, 0, 0, 0, 0, 0, 0, 0, 1, 0, 0, 0, 0, 0, 0, 0, 0, 0, 1, 0, 0, 0, 0, 0, 0, 0, 0, 0, 1, 0, 0, 0, 0, 0, 0, 0, 0, 0, 1, 0, 0, 0, 0, 0, 0, 0, 0, 1, 2, 1, 1, 1, 1, 1, 1, 1, 1, 0, 1, 0, 0, 0, 0, 0, 0, 0, 0, 0, 1, 0, 0, 0, 0, 0, 0, 0, 0, 0, 1, 0, 0, 0, 0, 0, 0, 0, 0, 0, 1, 0, 0, 0, 0, 0, 0, 0, 0, 0, 1, 0, 0, 0, 0, 0, 0, 0, 0, 0, 1, 0, 0, 0, 0, 0, 0, 0, 0, 0, 1, 0, 0, 0, 0, 0, 0, 0, 0, 0, 1, 0, 0, 0, 0, 0, 0, 0, 0, 0, 1, 0, 0, 0, 0, 0, 0, 0, 0, 1, 2, 1, 1, 1, 1, 1, 1, 1, 1, 0, 1, 0, 0, 0, 0, 0, 0, 0, 0, 0, 1, 0, 0, 0, 0, 0, 0, 0, 0, 0, 1, 0, 0, 0, 0, 0, 0, 0, 0, 0, 1, 0, 0, 0, 0, 0, 0, 0, 0, 0, 1, 0, 0, 0, 0, 0, 0, 0, 0, 0, 1, 0, 0, 0, 0, 0, 0, 0, 0, 0, 1, 0, 0, 0, 0, 0, 0, 0, 0, 0, 1, 0, 0, 0, 0, 0, 0, 0, 0, 0, 1, 0, 0, 0, 0, 0, 0, 0, 0, 1, 2, 1, 1, 1, 1, 1, 1, 1, 1, 0, 1, 0, 0, 0, 0, 0, 0, 0, 0, 0, 1, 0, 0, 0, 0, 0, 0, 0, 0, 0, 1, 0, 0, 0, 0, 0, 0, 0, 0, 0, 1, 0, 0, 0, 0, 0, 0, 0, 0, 0, 1, 0, 0, 0, 0, 0, 0, 0, 0, 0, 1, 0, 0, 0, 0, 0, 0, 0, 0, 0, 1, 0, 0, 0, 0, 0, 0, 0, 0, 0, 1, 0, 0, 0, 0, 0, 0, 0, 0, 0, 1, 0, 0, 0, 0, 0, 0, 0, 0, 1, 2, 1, 1, 1, 1, 1, 1, 1, 1, 0, 1, 0, 0, 0, 0, 0, 0, 0, 0, 0, 1, 0, 0, 0, 0, 0, 0, 0, 0, 0, 1, 0, 0, 0, 0, 0, 0, 0, 0, 0, 1, 0, 0, 0, 0, 0, 0, 0, 0, 0, 1, 0, 0, 0, 0, 0, 0, 0, 0, 0, 1, 0, 0, 0, 0, 0, 0, 0, 0, 0, 1, 0, 0, 0, 0, 0, 0, 0, 0, 0, 1, 0, 0, 0, 0, 0, 0, 0, 0, 0, 1, 0, 0, 0, 0, 0, 0, 0, 0, 1, 2, 1, 1, 1, 1, 1, 1, 1, 1, 0, 1, 0, 0, 0, 0, 0, 0, 0, 0, 0, 1, 0, 0, 0, 0, 0, 0, 0, 0, 0, 1, 0, 0, 0, 0, 0, 0, 0, 0, 0, 1, 0, 0, 0, 0, 0, 0, 0, 0, 0, 1, 0, 0, 0, 0, 0, 0, 0, 0, 0, 1, 0, 0, 0, 0, 0, 0, 0, 0, 0, 1, 0, 0, 0, 0, 0, 0, 0, 0, 0, 1, 0, 0, 0, 0, 0, 0, 0, 0, 0, 1, 0, 0, 0, 0, 0, 0, 0, 0, 1, 2, 1, 1, 1, 1, 1, 1, 1, 1, 0, 1, 0, 0, 0, 0, 0, 0, 0, 0, 0, 1, 0, 0, 0, 0, 0, 0, 0, 0, 0, 1, 0, 0, 0, 0, 0, 0, 0, 0, 0, 1, 0, 0, 0, 0, 0, 0, 0, 0, 0, 1, 0, 0, 0, 0, 0, 0, 0, 0, 0, 1, 0, 0, 0, 0, 0, 0, 0, 0, 0, 1, 0, 0, 0, 0, 0, 0, 0, 0, 0, 1, 0, 0, 0, 0, 0, 0, 0, 0, 1]\n"
     ]
    }
   ],
   "source": [
    "print([str(x).count(\"1\") for x in range(0, 1001)])"
   ]
  },
  {
   "cell_type": "code",
   "execution_count": 6,
   "metadata": {
    "collapsed": false
   },
   "outputs": [
    {
     "data": {
      "text/plain": [
       "301"
      ]
     },
     "execution_count": 6,
     "metadata": {},
     "output_type": "execute_result"
    }
   ],
   "source": [
    "sum(str(x).count(\"1\") for x in range(0, 1001))"
   ]
  },
  {
   "cell_type": "markdown",
   "metadata": {},
   "source": [
    "Das ist ja vielleicht ganz nett, aber wie kann mir das helfen wenn ich gezwungen werde für böse Leute eine Fabrik zur Produktion von Biowaffen zu bauen?!?"
   ]
  },
  {
   "cell_type": "code",
   "execution_count": 7,
   "metadata": {
    "collapsed": false
   },
   "outputs": [
    {
     "name": "stdout",
     "output_type": "stream",
     "text": [
      "[104, 105, 108, 102, 101, 44, 32, 104, 111, 108, 32, 109, 105, 99, 104, 32, 104, 105, 101, 114, 32, 114, 97, 117, 115, 33]\n",
      "['h', 'i', 'l', 'f', 'e', ',', ' ', 'h', 'o', 'l', ' ', 'm', 'i', 'c', 'h', ' ', 'h', 'i', 'e', 'r', ' ', 'r', 'a', 'u', 's', '!']\n"
     ]
    }
   ],
   "source": [
    "# https://books.google.de/books?id=GyPG-un1ivkC&hl\n",
    "\n",
    "msg = \"hilfe, hol mich hier raus!\"\n",
    "msg_als_liste_von_zahlen = [ord(c) for c in msg]\n",
    "print(msg_als_liste_von_zahlen)\n",
    "print(list(chr(x) for x in msg_als_liste_von_zahlen))"
   ]
  },
  {
   "cell_type": "code",
   "execution_count": 8,
   "metadata": {
    "collapsed": false
   },
   "outputs": [
    {
     "data": {
      "text/plain": [
       "[<matplotlib.lines.Line2D at 0x7f4225d07860>]"
      ]
     },
     "execution_count": 8,
     "metadata": {},
     "output_type": "execute_result"
    },
    {
     "data": {
      "image/png": "[encoded data removed]",
      "text/plain": [
       "<matplotlib.figure.Figure at 0x7f4228668128>"
      ]
     },
     "metadata": {},
     "output_type": "display_data"
    }
   ],
   "source": [
    "%matplotlib inline\n",
    "\n",
    "import matplotlib\n",
    "import numpy as np\n",
    "import matplotlib.pyplot as plt\n",
    "\n",
    "plt.plot(msg_als_liste_von_zahlen)"
   ]
  },
  {
   "cell_type": "markdown",
   "metadata": {},
   "source": [
    "Okay, aber ich will die Nachricht lieber so verschlüsseln, dass sie **niemand** lesen kann!"
   ]
  },
  {
   "cell_type": "code",
   "execution_count": 9,
   "metadata": {
    "collapsed": false
   },
   "outputs": [
    {
     "name": "stdout",
     "output_type": "stream",
     "text": [
      "f\n",
      "102\n",
      "0b1100110\n",
      "1100110\n"
     ]
    }
   ],
   "source": [
    "# https://de.wikipedia.org/wiki/One-Time-Pad\n",
    "\n",
    "buchstaben = \"f\"\n",
    "print(buchstaben)\n",
    "buchstaben_als_zahl = ord(buchstaben)\n",
    "print(buchstaben_als_zahl)\n",
    "buchstaben_als_binärzahl = bin(buchstaben_als_zahl)\n",
    "print(buchstaben_als_binärzahl)\n",
    "buchstaben_als_binärzahl_kurz = buchstaben_als_binärzahl[2:]\n",
    "print(buchstaben_als_binärzahl_kurz)"
   ]
  },
  {
   "cell_type": "markdown",
   "metadata": {},
   "source": [
    "was macht XOR nochmal?"
   ]
  },
  {
   "cell_type": "code",
   "execution_count": 10,
   "metadata": {
    "collapsed": false
   },
   "outputs": [
    {
     "data": {
      "text/plain": [
       "(False, True, True, False)"
      ]
     },
     "execution_count": 10,
     "metadata": {},
     "output_type": "execute_result"
    }
   ],
   "source": [
    "True^True, True ^ False, False^True, False^False"
   ]
  },
  {
   "cell_type": "code",
   "execution_count": 11,
   "metadata": {
    "collapsed": false
   },
   "outputs": [
    {
     "data": {
      "text/plain": [
       "('0b11', '0b101', '0b110', 6)"
      ]
     },
     "execution_count": 11,
     "metadata": {},
     "output_type": "execute_result"
    }
   ],
   "source": [
    "bin(3), bin(5), bin(3^5), 3^5"
   ]
  },
  {
   "cell_type": "code",
   "execution_count": 12,
   "metadata": {
    "collapsed": false
   },
   "outputs": [
    {
     "name": "stdout",
     "output_type": "stream",
     "text": [
      "plaintext [104, 105, 108, 102, 101, 33]\n",
      "schlüssel [95, 48, 95, 50, 120, 120]\n",
      "verschlüsselt [55, 89, 51, 84, 29, 89]\n",
      "verschlüsselt als buchstaben ['7', 'Y', '3', 'T', '\\x1d', 'Y']\n",
      "7Y3T\u001d",
      "Y\n"
     ]
    }
   ],
   "source": [
    "plaintext = \"hilfe!\"\n",
    "plaintext_int = [ord(c) for c in plaintext]\n",
    "print(\"plaintext\", plaintext_int)\n",
    "schlüssel = \"_0_2xx\"\n",
    "schlüssel_int = [ord(c) for c in schlüssel]\n",
    "print(\"schlüssel\", schlüssel_int)\n",
    "\n",
    "verschlüsselte_msg_int = [x^y for x, y in zip(plaintext_int, schlüssel_int)]\n",
    "print(\"verschlüsselt\", verschlüsselte_msg_int)\n",
    "print(\"verschlüsselt als buchstaben\", list(chr(x) for x in verschlüsselte_msg_int))\n",
    "print(''.join(chr(x) for x in verschlüsselte_msg_int))"
   ]
  },
  {
   "cell_type": "code",
   "execution_count": 13,
   "metadata": {
    "collapsed": false
   },
   "outputs": [
    {
     "name": "stdout",
     "output_type": "stream",
     "text": [
      "hilfe!\n"
     ]
    }
   ],
   "source": [
    "entschlüsselte_msg_int = [a^b for a, b in zip(verschlüsselte_msg_int, schlüssel_int)]\n",
    "entschlüsselte_msg = ''.join(chr(x) for x in entschlüsselte_msg_int)\n",
    "print(entschlüsselte_msg)"
   ]
  },
  {
   "cell_type": "markdown",
   "metadata": {},
   "source": [
    "#### Ich bin ganz friedlich und werd auch nicht (hoffentlich!) in nächster Zeit entführt, aber was mach ich, damit niemand meine Daten verändert? - Kleine Einführung in Hashing"
   ]
  },
  {
   "cell_type": "code",
   "execution_count": 14,
   "metadata": {
    "collapsed": false
   },
   "outputs": [
    {
     "name": "stdout",
     "output_type": "stream",
     "text": [
      "{'pia': 15, 'anton': 45, 'tommy': 12, 'helga': 7}\n"
     ]
    }
   ],
   "source": [
    "wörterbuch = {\"pia\": 15, \"anton\": 45, \"tommy\": 12, \"helga\": 7}\n",
    "print(wörterbuch)"
   ]
  },
  {
   "cell_type": "code",
   "execution_count": 15,
   "metadata": {
    "collapsed": false
   },
   "outputs": [
    {
     "data": {
      "text/plain": [
       "15"
      ]
     },
     "execution_count": 15,
     "metadata": {},
     "output_type": "execute_result"
    }
   ],
   "source": [
    "wörterbuch[\"pia\"]"
   ]
  },
  {
   "cell_type": "markdown",
   "metadata": {},
   "source": [
    "wie funktioniert das? für details: https://www.youtube.com/watch?v=66P5FMkWoVU"
   ]
  },
  {
   "cell_type": "code",
   "execution_count": 16,
   "metadata": {
    "collapsed": false
   },
   "outputs": [
    {
     "data": {
      "text/plain": [
       "4715503984220036974"
      ]
     },
     "execution_count": 16,
     "metadata": {},
     "output_type": "execute_result"
    }
   ],
   "source": [
    "hash(\"pia\")"
   ]
  },
  {
   "cell_type": "markdown",
   "metadata": {},
   "source": [
    "Es gibt aber keine Sicherheit, dass dieser Hash in Raum und Zeit einzigartig ist! Was tun, wenn man verteilte Maschinen hat, die Nachrichten wirklich einzigartig markieren müssen, egal wann und wo sie entstehen?"
   ]
  },
  {
   "cell_type": "code",
   "execution_count": 17,
   "metadata": {
    "collapsed": false
   },
   "outputs": [
    {
     "name": "stdout",
     "output_type": "stream",
     "text": [
      "476cb823-9bd0-44e6-b97a-0496e21f14e1\n",
      "15e13528-464b-4616-b5d8-71303f2b7a88\n",
      "7d76bc9f-ffd1-425c-9c4e-7e833ed33205\n"
     ]
    }
   ],
   "source": [
    "from uuid import uuid4\n",
    "print(uuid4())\n",
    "print(uuid4())\n",
    "print(uuid4())"
   ]
  },
  {
   "cell_type": "markdown",
   "metadata": {},
   "source": [
    "OK, jetzt kann ich zwar einer Nachricht eine einzigartige Markierung geben, aber das hilft mir nicht wenn jemand meine Nachricht verfälschen will, oder?"
   ]
  },
  {
   "cell_type": "code",
   "execution_count": 18,
   "metadata": {
    "collapsed": false
   },
   "outputs": [
    {
     "name": "stdout",
     "output_type": "stream",
     "text": [
      "a4f9acab6ea8687515ced761bb7c6881bed6a364\n",
      "-6776425839982701069\n"
     ]
    }
   ],
   "source": [
    "from hashlib import sha1\n",
    "\n",
    "msg = \"Wirklich wichtige Nachricht die nicht verfälscht werden darf.\"\n",
    "# msg ist Unicode, encoding muss aber explizit angegeben werden hier\n",
    "msg_hash = sha1(msg.encode('utf-8'))\n",
    "print(msg_hash.hexdigest())\n",
    "# zum vergleich\n",
    "print(hash(msg))"
   ]
  },
  {
   "cell_type": "markdown",
   "metadata": {},
   "source": [
    "Wird dieser Hash jetzt separat mitgesendet, kann man jederzeit überprüfen ob die Nachricht verändert wurde. Genau das wird z. B. auf github verwendet für jede Version, siehe\n",
    "https://github.com/amogorkon/Programmieren_tut/commit/6d97ef11345a7576c21c4436b544197cd8c02756"
   ]
  },
  {
   "cell_type": "markdown",
   "metadata": {},
   "source": [
    "*Ich hab das jetzt verstanden mit dem Hashing .oO(ja ne, is klar..), aber wie funktioniert das eigentlich mit der Cloud und so?*"
   ]
  },
  {
   "cell_type": "markdown",
   "metadata": {},
   "source": [
    "Ok, also. Ihr kennt das https://de.wikipedia.org/wiki/OSI-Modell. Industrielle Anwendungen konzentrieren sich normal auf die untersten Ebenen - im Gegensatz dazu gab es auf der obersten Ebene der Abstraktion einige Revolutionen in den letzten Jahren; die wichtigste davon war sicher docker (http://docker.com). Docker ist eine Art leichtgewichtige virtuelle Maschine, die Anwendungen mitsamt ihren Abhängigkeiten und Laufzustand komplett verpackt, so dass man sie auf praktisch jeder Maschine überall auf der Welt laufen lassen kann - man kann sogar den gesamten Zustand einfrieren und auf der anderen Seite der Erde wieder auftauen, ohne besonderen Aufwand. Das Resultat ist die sogenannte https://de.wikipedia.org/wiki/Microservices Architektur. **REST** ist dafür ausschlaggebend:"
   ]
  },
  {
   "cell_type": "code",
   "execution_count": 19,
   "metadata": {
    "collapsed": false
   },
   "outputs": [
    {
     "data": {
      "text/plain": [
       "b'<!DOCTYPE html>\\n<html class=\"client-nojs\" lang=\"de\" dir=\"ltr\">\\n<head>\\n<meta charset=\"UTF-8\"/>\\n<title>Microservices \\xe2\\x80\\x93 Wikipedia</title>\\n<script>document.documentElement.className = document.documentElement.className.replace( /(^|\\\\s)client-nojs(\\\\s|$)/, \"$1client-js$2\" );</script>\\n<script>(window.RLQ'"
      ]
     },
     "execution_count": 19,
     "metadata": {},
     "output_type": "execute_result"
    }
   ],
   "source": [
    "import requests\n",
    "r = requests.get(\"https://de.wikipedia.org/wiki/Microservices\")\n",
    "r.content[:300]"
   ]
  },
  {
   "cell_type": "markdown",
   "metadata": {},
   "source": [
    "REST - https://de.wikipedia.org/wiki/Representational_State_Transfer - ist die Idee, dass ein URI einen Zustand repräsentiert, der sich nicht spontan ändern kann. Damit etwas RESTful sein kann, darf es NUR folgende Verben unterstützen: GET (fordert NUR Daten an, ohne sie zu ändern), POST (ändert etwas explizit) PUT (legt eine Ressource an), PATCH (ändert einen Teil einer Ressource), DELETE (löscht), HEAD (fordert Metadaten zu einer Ressource an), OPTIONS (checkt welche Methoden zur Verfügung stehen), CONNECT (Anfrage durch einen TCP-Tunnel zu leiten), TRACE (fordert die Anfrage zurück, wie sie der Zielserver erhält). Alles andere wird über diese Verben und die Struktur der URI definiert.\n",
    "\n",
    "Mal sehen wie Twitter das macht: https://dev.twitter.com/rest/public"
   ]
  },
  {
   "cell_type": "code",
   "execution_count": 20,
   "metadata": {
    "collapsed": false
   },
   "outputs": [
    {
     "data": {
      "text/plain": [
       "b'{\"errors\":[{\"code\":215,\"message\":\"Bad Authentication data.\"}]}'"
      ]
     },
     "execution_count": 20,
     "metadata": {},
     "output_type": "execute_result"
    }
   ],
   "source": [
    "r = requests.get(\"https://api.twitter.com/1.1/search/tweets.json?q=%sigmaringen\")\n",
    "r.content"
   ]
  },
  {
   "cell_type": "markdown",
   "metadata": {},
   "source": [
    "Ooops. Da müsste man sich wohl noch um die Authentifizierung kümmern wie in https://dev.twitter.com/oauth beschrieben; Aber man sieht hier schon, wie das Format aussieht mit dem Twitter funktioniert: die sehr praktische https://de.wikipedia.org/wiki/JavaScript_Object_Notation"
   ]
  },
  {
   "cell_type": "code",
   "execution_count": 21,
   "metadata": {
    "collapsed": false
   },
   "outputs": [
    {
     "data": {
      "text/plain": [
       "'{\"name\": \"Anselm\", \"alter\": 32, \"coolness\": 9001}'"
      ]
     },
     "execution_count": 21,
     "metadata": {},
     "output_type": "execute_result"
    }
   ],
   "source": [
    "import json\n",
    "\n",
    "d = {\"name\": \"Anselm\", \"alter\": 32, \"coolness\": 9001}\n",
    "json.dumps(d)"
   ]
  },
  {
   "cell_type": "markdown",
   "metadata": {},
   "source": [
    "Man könnte also sagen das derzeitige Paradigma (nicht immer, aber immer öfter) besteht darin, dass die Cloud aus kleinen, spezifischen Apps besteht, die als Docker-Container irgendwo auf der Welt laufen und sich im JSON Format über RESTful APIs mit anderen Apps unterhalten um komplexe Aufgaben zu erledigen. Dabei werden die ganzen unteren Ebenen im OSI ignoriert bzw. weg-abstrahiert, so dass es völlig egal ist ob die Maschinen über Kupferkabel TCP over IP oder UDP over Brieftaube kommunizieren.. "
   ]
  },
  {
   "cell_type": "markdown",
   "metadata": {},
   "source": [
    "Apropos Netzwerk Architektur: http://zeromq.org/ ist sehr cool und könnte interessant sein:\n",
    "\n",
    "* Connect your code in any language, on any platform.\n",
    "* Carries messages across inproc, IPC, TCP, TIPC, multicast.\n",
    "* Smart patterns like pub-sub, push-pull, and router-dealer.\n",
    "* High-speed asynchronous I/O engines, in a tiny library.\n",
    "* Backed by a large and active open source community.\n",
    "* Supports every modern language and platform.\n",
    "* Build any architecture: centralized, distributed, small, or large.\n",
    "* Free software with full commercial support."
   ]
  },
  {
   "cell_type": "markdown",
   "metadata": {},
   "source": [
    "### Zum Schluss noch ein paar weiterführende Links.. "
   ]
  },
  {
   "cell_type": "markdown",
   "metadata": {},
   "source": [
    "https://github.com/jupyter/jupyter/wiki/A-gallery-of-interesting-Jupyter-Notebooks#earth-science-and-geo-spatial-data\n",
    "\n",
    "Wissenschaftlicher Artikel als Notebook:\n",
    "http://nbviewer.jupyter.org/github/cossatot/lanf_earthquake_likelihood/blob/master/notebooks/lanf_manuscript_notebook.ipynb "
   ]
  },
  {
   "cell_type": "markdown",
   "metadata": {},
   "source": [
    "http://pythonforengineers.com/python-for-scientists-and-engineers/"
   ]
  }
 ],
 "metadata": {
  "kernelspec": {
   "display_name": "Python 3",
   "language": "python",
   "name": "python3"
  },
  "language_info": {
   "codemirror_mode": {
    "name": "ipython",
    "version": 3
   },
   "file_extension": ".py",
   "mimetype": "text/x-python",
   "name": "python",
   "nbconvert_exporter": "python",
   "pygments_lexer": "ipython3",
   "version": "3.6.0"
  }
 },
 "nbformat": 4,
 "nbformat_minor": 2
}
